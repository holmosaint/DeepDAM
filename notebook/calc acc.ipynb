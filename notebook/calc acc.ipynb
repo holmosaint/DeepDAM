{
 "cells": [
  {
   "cell_type": "code",
   "execution_count": 8,
   "id": "a0449c00",
   "metadata": {},
   "outputs": [],
   "source": [
    "import h5py as h5\n",
    "import numpy as np\n",
    "import matplotlib\n",
    "%matplotlib inline\n",
    "import matplotlib.pyplot as plt\n",
    "from sklearn.metrics import auc, roc_curve, matthews_corrcoef\n",
    "from scipy.stats import norm\n",
    "from scipy.io import loadmat\n",
    "import seaborn as sns\n",
    "import os, sys"
   ]
  },
  {
   "cell_type": "code",
   "execution_count": 9,
   "id": "69e1679c",
   "metadata": {},
   "outputs": [],
   "source": [
    "def load_and_calc(file_name):\n",
    "    with h5.File(file_name, 'r') as f:\n",
    "        pred = f.get('pred_param')[...].reshape(-1)\n",
    "        target = f.get('target_param')[...].reshape(-1)\n",
    "        # target[target > 0] = 1\n",
    "        # target = new_target\n",
    "    fpr, tpr, thresholds = roc_curve(target, pred)\n",
    "    auc_score = auc(fpr, tpr)\n",
    "    \n",
    "    pred[pred >= 0.5] = 1\n",
    "    pred[pred < 0.5] = 0\n",
    "    mcc = matthews_corrcoef(target, pred)\n",
    "    \n",
    "    false_positives = np.sum((pred == 1) & (target == 0))\n",
    "    false_negatives = np.sum((pred == 0) & (target == 1))\n",
    "    # return auc_score, mcc, np.argwhere(target == pred)[:, 0].shape[0] / target.shape[0], false_positives, false_negatives\n",
    "    return mcc, false_positives, false_negatives"
   ]
  },
  {
   "cell_type": "code",
   "execution_count": 10,
   "id": "302fd9c7",
   "metadata": {},
   "outputs": [],
   "source": [
    "def aggregated_performance(file_name_list, aggregated_num):\n",
    "    mcc_list = list()\n",
    "    fp_list = list()\n",
    "    fn_list = list()\n",
    "    correlation_list = list()\n",
    "    np.random.seed(0)\n",
    "    select_idx_list = [np.random.choice(np.arange(len(file_name_list)), aggregated_num, replace=False) for _ in range(1000)]\n",
    "\n",
    "    file_name_list = np.array(file_name_list)\n",
    "    for select_idx in select_idx_list:\n",
    "        pred_list = list()\n",
    "        for file_name in file_name_list[select_idx]:\n",
    "            with h5.File(file_name, 'r') as f:\n",
    "                pred = f.get('pred_param')[...].reshape(-1)\n",
    "                target = f.get('target_param')[...].reshape(-1)\n",
    "                target[target > 0] = 1\n",
    "            # pred[pred >= 0.5] = 1\n",
    "            # pred[pred < 0.5] = 0\n",
    "            pred_list.append(pred)\n",
    "        pred_list = np.array(pred_list)\n",
    "        pred = np.mean(pred_list, axis=0)\n",
    "        pred[pred >= 0.5] = 1\n",
    "        pred[pred < 0.5] = 0\n",
    "        mcc = matthews_corrcoef(target, pred)\n",
    "        mcc_list.append(mcc)\n",
    "    \n",
    "        false_positives = np.sum((pred == 1) & (target == 0))\n",
    "        false_negatives = np.sum((pred == 0) & (target == 1))\n",
    "        fp_list.append(false_positives)\n",
    "        fn_list.append(false_negatives)\n",
    "        correlation_list.append(pred)\n",
    "    correlation_list = np.array(correlation_list)\n",
    "    correlation_list = np.corrcoef(correlation_list)\n",
    "    upper_triangular = np.triu(correlation_list, k=1)\n",
    "    mean_triangular = np.mean(upper_triangular)\n",
    "    return mcc_list, fp_list, fn_list, mean_triangular"
   ]
  },
  {
   "cell_type": "markdown",
   "id": "b4468c47",
   "metadata": {},
   "source": [
    "## Original"
   ]
  },
  {
   "cell_type": "code",
   "execution_count": 11,
   "id": "4aac2890",
   "metadata": {},
   "outputs": [],
   "source": [
    "reps_st = 0\n",
    "reps_en = 10\n",
    "\n",
    "aggregated_num = 5\n",
    "t_factor_list = [0.1]\n",
    "da_factor_list = [0.01, 0.001, 0.0001][2:]\n",
    "da_thre_list = [0.05, 0.01, 0.001][1:2]\n",
    "st_thre_list = [0.05, 0.01, 0.001][1:2]\n",
    "min_thre = 0.01\n",
    "file_reps_whole = 1\n",
    "exp_type = 'pos_9_neg_66_20220303'\n",
    "start_idx= 0\n",
    "\n",
    "can_list = list()\n",
    "can_fp_list = list()\n",
    "can_fn_list = list()\n",
    "root_dir = '../'\n",
    "temp_cnt = 0\n",
    "total_cnt = 0\n",
    "aggregated_can_list = list()\n",
    "aggregated_can_fp_list = list()\n",
    "aggregated_can_fn_list = list()\n",
    "for t_factor in t_factor_list:\n",
    "    for da_factor in da_factor_list:\n",
    "        for da_thre in da_thre_list:\n",
    "            for st_thre in st_thre_list:\n",
    "                if st_thre > da_thre:\n",
    "                    continue\n",
    "                can_list.append(list())\n",
    "                can_fp_list.append(list())\n",
    "                can_fn_list.append(list())\n",
    "                file_name_list = list()\n",
    "                for r in range(reps_st, reps_en):\n",
    "                    result_dir = f'{root_dir}/{exp_type}/dast/min_thre_{min_thre}/t_factor_{t_factor}/{r}/da_factor_{da_factor}/da_thre_{da_thre}/st_thre_{st_thre}/start_idx_{start_idx}'\n",
    "                    try:\n",
    "                        score = load_and_calc(os.path.join(result_dir, 'pred.h5'))\n",
    "                        can_list[-1].append(score[0])\n",
    "                        can_fp_list[-1].append(score[1])\n",
    "                        can_fn_list[-1].append(score[2])\n",
    "                        file_name_list.append(result_dir+'/pred.h5')\n",
    "                    except FileNotFoundError as e:\n",
    "                        print(e)\n",
    "                        print(os.path.join(result_dir, 'pred.h5'))\n",
    "                        \n",
    "                aggregated_score = aggregated_performance(file_name_list, aggregated_num)\n",
    "                aggregated_can_list.append(aggregated_score[0])\n",
    "                aggregated_can_fp_list.append(aggregated_score[1])\n",
    "                aggregated_can_fn_list.append(aggregated_score[2])"
   ]
  },
  {
   "cell_type": "code",
   "execution_count": 12,
   "id": "372f5f24",
   "metadata": {},
   "outputs": [
    {
     "name": "stdout",
     "output_type": "stream",
     "text": [
      "lambda_dis\tG_DA\tG_ST\taggregated MCC MEAN±std\taggregated MCC mean±std\tseed0\tseed1\tseed2\tseed3\tseed4\tseed5\tseed6\tseed7\tseed8\tseed9\t\n",
      "0.0001\t0.01\t0.01\t0.959±0.04\t0.907±0.069\t0.941\t0.771\t1.0\t0.846\t0.941\t0.891\t0.941\t0.891\t1.0\t0.846\t\n"
     ]
    }
   ],
   "source": [
    "### MCC\n",
    "cnt = 0\n",
    "print(f'lambda_dis\\tG_DA\\tG_ST\\taggregated MCC MEAN±std\\taggregated MCC mean±std', end='\\t')\n",
    "for r in range(reps_st, reps_en):\n",
    "    print(f'seed{r}', end='\\t')\n",
    "print()\n",
    "for t_factor in t_factor_list:\n",
    "    for da_factor in da_factor_list:\n",
    "        for da_thre in da_thre_list:\n",
    "            for st_thre in st_thre_list:\n",
    "                if st_thre > da_thre:\n",
    "                    continue\n",
    "                print(f'{da_factor}\\t{da_thre}\\t{st_thre}', end='\\t')\n",
    "                print(fr'{np.round(np.mean(aggregated_can_list[cnt]), 3)}±{np.round(np.std(aggregated_can_list[cnt]), 3)}', end='\\t')\n",
    "                print(f'{np.round(np.mean(can_list[cnt]), 3)}±{np.round(np.std(can_list[cnt]), 3)}', end='\\t')\n",
    "                for r in range(len(can_list[cnt])):\n",
    "                    print(np.round(can_list[cnt][r], 3), end='\\t')\n",
    "                cnt += 1\n",
    "\n",
    "                print()"
   ]
  },
  {
   "cell_type": "code",
   "execution_count": 13,
   "id": "fb9ab6e8",
   "metadata": {},
   "outputs": [
    {
     "name": "stdout",
     "output_type": "stream",
     "text": [
      "lambda_dis\tG_DA\tG_ST\taggregated FP mean±std\taggregated FP mean±std\tseed0\tseed1\tseed2\tseed3\tseed4\tseed5\tseed6\tseed7\tseed8\tseed9\t\n",
      "0.0001\t0.01\t0.01\t0.723±0.736\t1.8±1.47\t1\t5\t0\t3\t1\t2\t1\t2\t0\t3\t\n"
     ]
    }
   ],
   "source": [
    "### FP\n",
    "cnt = 0\n",
    "print(f'lambda_dis\\tG_DA\\tG_ST\\taggregated FP mean±std\\taggregated FP mean±std', end='\\t')\n",
    "for r in range(reps_st, reps_en):\n",
    "    print(f'seed{r}', end='\\t')\n",
    "print()\n",
    "for t_factor in t_factor_list:\n",
    "    for da_factor in da_factor_list:\n",
    "        for da_thre in da_thre_list:\n",
    "            for st_thre in st_thre_list:\n",
    "                if st_thre > da_thre:\n",
    "                    continue\n",
    "                print(f'{da_factor}\\t{da_thre}\\t{st_thre}', end='\\t')\n",
    "                print(f'{np.round(np.mean(aggregated_can_fp_list[cnt]), 3)}±{np.round(np.std(aggregated_can_fp_list[cnt]), 3)}', end='\\t')\n",
    "                print(f'{np.round(np.mean(can_fp_list[cnt]), 3)}±{np.round(np.std(can_fp_list[cnt]), 3)}', end='\\t')\n",
    "                for r in range(len(can_fp_list[cnt])):\n",
    "                    print(np.round(can_fp_list[cnt][r], 3), end='\\t')\n",
    "                cnt += 1\n",
    "\n",
    "                print()"
   ]
  },
  {
   "cell_type": "code",
   "execution_count": 14,
   "id": "a7fd8aa8",
   "metadata": {},
   "outputs": [
    {
     "name": "stdout",
     "output_type": "stream",
     "text": [
      "lambda_dis\tG_DA\tG_ST\taggregated FN mean±std\taggregated FN mean±std\tseed0\tseed1\tseed2\tseed3\tseed4\tseed5\tseed6\tseed7\tseed8\tseed9\t\n",
      "0.0001\t0.01\t0.01\t0.0±0.0\t0.0±0.0\t0\t0\t0\t0\t0\t0\t0\t0\t0\t0\t\n"
     ]
    }
   ],
   "source": [
    "### FN\n",
    "cnt = 0\n",
    "print(f'lambda_dis\\tG_DA\\tG_ST\\taggregated FN mean±std\\taggregated FN mean±std', end='\\t')\n",
    "for r in range(reps_st, reps_en):\n",
    "    print(f'seed{r}', end='\\t')\n",
    "print()\n",
    "for t_factor in t_factor_list:\n",
    "    for da_factor in da_factor_list:\n",
    "        for da_thre in da_thre_list:\n",
    "            for st_thre in st_thre_list:\n",
    "                if st_thre > da_thre:\n",
    "                    continue\n",
    "                print(f'{da_factor}\\t{da_thre}\\t{st_thre}', end='\\t')\n",
    "                print(f'{np.round(np.mean(aggregated_can_fn_list[cnt]), 3)}±{np.round(np.std(aggregated_can_fn_list[cnt]), 3)}', end='\\t')\n",
    "                print(f'{np.round(np.mean(can_fn_list[cnt]), 3)}±{np.round(np.std(can_fn_list[cnt]), 3)}', end='\\t')\n",
    "                for r in range(len(can_fn_list[cnt])):\n",
    "                    print(np.round(can_fn_list[cnt][r], 3), end='\\t')\n",
    "                cnt += 1\n",
    "\n",
    "                print()"
   ]
  }
 ],
 "metadata": {
  "kernelspec": {
   "display_name": "Python 3",
   "language": "python",
   "name": "python3"
  },
  "language_info": {
   "codemirror_mode": {
    "name": "ipython",
    "version": 3
   },
   "file_extension": ".py",
   "mimetype": "text/x-python",
   "name": "python",
   "nbconvert_exporter": "python",
   "pygments_lexer": "ipython3",
   "version": "3.9.19"
  }
 },
 "nbformat": 4,
 "nbformat_minor": 5
}
